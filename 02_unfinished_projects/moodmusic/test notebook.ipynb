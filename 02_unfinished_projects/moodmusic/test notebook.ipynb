{
 "metadata": {
  "language_info": {
   "codemirror_mode": {
    "name": "ipython",
    "version": 3
   },
   "file_extension": ".py",
   "mimetype": "text/x-python",
   "name": "python",
   "nbconvert_exporter": "python",
   "pygments_lexer": "ipython3",
   "version": "3.7.6-final"
  },
  "orig_nbformat": 2,
  "kernelspec": {
   "name": "python_defaultSpec_1600541459530",
   "display_name": "Python 3.7.6 64-bit"
  }
 },
 "nbformat": 4,
 "nbformat_minor": 2,
 "cells": [
  {
   "cell_type": "code",
   "execution_count": 1,
   "metadata": {},
   "outputs": [],
   "source": [
    "import music_database as MD\n",
    "import pandas as pd"
   ]
  },
  {
   "cell_type": "code",
   "execution_count": 2,
   "metadata": {},
   "outputs": [],
   "source": [
    "df=MD.read_db('music_database.csv')"
   ]
  },
  {
   "cell_type": "code",
   "execution_count": null,
   "metadata": {
    "tags": []
   },
   "outputs": [],
   "source": [
    "#which='left_only'  and which='right_only' and which='both'\n",
    "\n",
    "\n",
    "#look through db if all albums are still in the right pla\n",
    "#https://stackoverflow.com/questions/20225110/comparing-two-dataframes-and-getting-the-differences\n",
    "\n",
    "#see what the new folder structure looks like\n",
    "new_df=MD.init_db('music_database_copy.csv')\n",
    "#print(new_df)\n",
    "t_new_df=new_df.iloc[:,0:9]\n",
    "t_new_df.drop('tag1',axis=1,inplace=True)\n",
    "t_new_df.drop('tag2',axis=1,inplace=True)\n",
    "t_new_df.drop('tag3',axis=1,inplace=True)\n",
    "t_new_df.drop('tag4',axis=1,inplace=True)\n",
    "t_new_df.drop('tag5',axis=1,inplace=True)\n",
    "\n",
    "t_new_df=MD.translate_forbidden_symbols(t_new_df)\n",
    "\n",
    "#print(t_new_df)\n",
    "#get the current database structure\n",
    "df=MD.read_db('music_database.csv')\n",
    "\n",
    "t_df=df.iloc[:,0:9]\n",
    "t_df.drop('tag1',axis=1,inplace=True)\n",
    "t_df.drop('tag2',axis=1,inplace=True)\n",
    "t_df.drop('tag3',axis=1,inplace=True)\n",
    "t_df.drop('tag4',axis=1,inplace=True)\n",
    "t_df.drop('tag5',axis=1,inplace=True)\n",
    "\n",
    "#print(t_df)\n",
    "delta_df=MD.dataframe_difference(t_new_df,t_df)\n",
    "\n",
    "#print(delta_df)\n",
    "\n",
    "#ask to add rows to dataframe\n",
    "#print(tabulate(delta_df, headers='keys', tablefmt='psql'))\n",
    "\n",
    "############check if album just switched to a different genre?#############\n",
    "\n",
    "right_only=delta_df[delta_df['_merge']=='right_only']\n",
    "left_only=delta_df[delta_df['_merge']=='left_only']\n",
    "\n"
   ]
  },
  {
   "cell_type": "code",
   "execution_count": null,
   "metadata": {},
   "outputs": [],
   "source": [
    "#remove old albums\n",
    "selection=right_only.complete_album.tolist()\n",
    "\n",
    "tt_df=df[~pd.DataFrame(df['complete_album'].tolist()).isin(selection).any(1)] #~ means negative \n",
    "df=tt_df"
   ]
  },
  {
   "cell_type": "code",
   "execution_count": null,
   "metadata": {
    "tags": []
   },
   "outputs": [],
   "source": [
    "\n",
    "####add new albums####\n",
    "frames=[df,left_only]\n",
    "\n",
    "df=pd.concat(frames,ignore_index=True)\n",
    "cols=['artist','album','genre','tag1','tag2','tag3',\n",
    "    'tag4','tag5','complete_album','rym_genre1','rym_genre2','rym_genre3','year','rating','search_result1','search_result2','search_result3']\n",
    "\n",
    "df=df[cols]\n"
   ]
  },
  {
   "cell_type": "code",
   "execution_count": null,
   "metadata": {},
   "outputs": [],
   "source": []
  }
 ]
}